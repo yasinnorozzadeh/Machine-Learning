{
 "cells": [
  {
   "cell_type": "code",
   "execution_count": 112,
   "id": "84c12802-7419-45f4-8e9c-86936b69ba6a",
   "metadata": {},
   "outputs": [],
   "source": [
    "import numpy as np\n",
    "from numpy.linalg import inv\n",
    "import pandas as pd\n",
    "import matplotlib.pyplot as plt\n",
    "import seaborn as sns\n",
    "import pandas as pd\n",
    "from sklearn.model_selection import train_test_split\n",
    "import tensorflow as tf\n",
    "from numpy.linalg import inv"
   ]
  },
  {
   "cell_type": "code",
   "execution_count": 113,
   "id": "8232422c-ad9c-4304-a7f9-88c60a8a0a3d",
   "metadata": {},
   "outputs": [
    {
     "data": {
      "text/html": [
       "<div>\n",
       "<style scoped>\n",
       "    .dataframe tbody tr th:only-of-type {\n",
       "        vertical-align: middle;\n",
       "    }\n",
       "\n",
       "    .dataframe tbody tr th {\n",
       "        vertical-align: top;\n",
       "    }\n",
       "\n",
       "    .dataframe thead th {\n",
       "        text-align: right;\n",
       "    }\n",
       "</style>\n",
       "<table border=\"1\" class=\"dataframe\">\n",
       "  <thead>\n",
       "    <tr style=\"text-align: right;\">\n",
       "      <th></th>\n",
       "      <th>Sex</th>\n",
       "      <th>Length</th>\n",
       "      <th>Diameter</th>\n",
       "      <th>Height</th>\n",
       "      <th>Whole weight</th>\n",
       "      <th>Shucked weight</th>\n",
       "      <th>Viscera weight</th>\n",
       "      <th>Shell weight</th>\n",
       "      <th>Rings</th>\n",
       "    </tr>\n",
       "  </thead>\n",
       "  <tbody>\n",
       "    <tr>\n",
       "      <th>0</th>\n",
       "      <td>M</td>\n",
       "      <td>0.350</td>\n",
       "      <td>0.265</td>\n",
       "      <td>0.090</td>\n",
       "      <td>0.2255</td>\n",
       "      <td>0.0995</td>\n",
       "      <td>0.0485</td>\n",
       "      <td>0.070</td>\n",
       "      <td>7</td>\n",
       "    </tr>\n",
       "    <tr>\n",
       "      <th>1</th>\n",
       "      <td>F</td>\n",
       "      <td>0.530</td>\n",
       "      <td>0.420</td>\n",
       "      <td>0.135</td>\n",
       "      <td>0.6770</td>\n",
       "      <td>0.2565</td>\n",
       "      <td>0.1415</td>\n",
       "      <td>0.210</td>\n",
       "      <td>9</td>\n",
       "    </tr>\n",
       "    <tr>\n",
       "      <th>2</th>\n",
       "      <td>M</td>\n",
       "      <td>0.440</td>\n",
       "      <td>0.365</td>\n",
       "      <td>0.125</td>\n",
       "      <td>0.5160</td>\n",
       "      <td>0.2155</td>\n",
       "      <td>0.1140</td>\n",
       "      <td>0.155</td>\n",
       "      <td>10</td>\n",
       "    </tr>\n",
       "    <tr>\n",
       "      <th>3</th>\n",
       "      <td>I</td>\n",
       "      <td>0.330</td>\n",
       "      <td>0.255</td>\n",
       "      <td>0.080</td>\n",
       "      <td>0.2050</td>\n",
       "      <td>0.0895</td>\n",
       "      <td>0.0395</td>\n",
       "      <td>0.055</td>\n",
       "      <td>7</td>\n",
       "    </tr>\n",
       "    <tr>\n",
       "      <th>4</th>\n",
       "      <td>I</td>\n",
       "      <td>0.425</td>\n",
       "      <td>0.300</td>\n",
       "      <td>0.095</td>\n",
       "      <td>0.3515</td>\n",
       "      <td>0.1410</td>\n",
       "      <td>0.0775</td>\n",
       "      <td>0.120</td>\n",
       "      <td>8</td>\n",
       "    </tr>\n",
       "  </tbody>\n",
       "</table>\n",
       "</div>"
      ],
      "text/plain": [
       "  Sex  Length  Diameter  Height  Whole weight  Shucked weight  Viscera weight  \\\n",
       "0   M   0.350     0.265   0.090        0.2255          0.0995          0.0485   \n",
       "1   F   0.530     0.420   0.135        0.6770          0.2565          0.1415   \n",
       "2   M   0.440     0.365   0.125        0.5160          0.2155          0.1140   \n",
       "3   I   0.330     0.255   0.080        0.2050          0.0895          0.0395   \n",
       "4   I   0.425     0.300   0.095        0.3515          0.1410          0.0775   \n",
       "\n",
       "   Shell weight  Rings  \n",
       "0         0.070      7  \n",
       "1         0.210      9  \n",
       "2         0.155     10  \n",
       "3         0.055      7  \n",
       "4         0.120      8  "
      ]
     },
     "execution_count": 113,
     "metadata": {},
     "output_type": "execute_result"
    }
   ],
   "source": [
    "data = pd.read_csv(\"abalone_data.csv\")\n",
    "data.columns =['Sex', 'Length', 'Diameter', 'Height', 'Whole weight', 'Shucked weight', 'Viscera weight', 'Shell weight', 'Rings']\n",
    "data.head()"
   ]
  },
  {
   "cell_type": "code",
   "execution_count": 114,
   "id": "e0e46881-0242-42a7-b557-abd7c10ed011",
   "metadata": {},
   "outputs": [],
   "source": [
    "X = data[['Height']]\n",
    "\n",
    "Y = data['Rings']"
   ]
  },
  {
   "cell_type": "code",
   "execution_count": 115,
   "id": "81d1eff3-3476-43a9-9600-bcd6c2009614",
   "metadata": {},
   "outputs": [
    {
     "data": {
      "text/plain": [
       "Length            0.557123\n",
       "Diameter          0.575005\n",
       "Height            0.558109\n",
       "Whole weight      0.540818\n",
       "Shucked weight    0.421256\n",
       "Viscera weight    0.504274\n",
       "Shell weight      0.628031\n",
       "Rings             1.000000\n",
       "Name: Rings, dtype: float64"
      ]
     },
     "execution_count": 115,
     "metadata": {},
     "output_type": "execute_result"
    }
   ],
   "source": [
    "correlation_matrix = data.corr()\n",
    "correlation_matrix[\"Rings\"]"
   ]
  },
  {
   "cell_type": "code",
   "execution_count": 116,
   "id": "0524d1c6-315c-4639-b5a7-54bc3f55d394",
   "metadata": {},
   "outputs": [],
   "source": [
    "X_train, X_test, Y_train, Y_test = train_test_split(X, Y, test_size=0.2)"
   ]
  },
  {
   "cell_type": "code",
   "execution_count": 117,
   "id": "caae6d09-82e4-4013-8957-45db0813c9ac",
   "metadata": {
    "tags": []
   },
   "outputs": [],
   "source": [
    "class LinearLeastSquare:\n",
    "    def __init__(self):\n",
    "        pass\n",
    "\n",
    "#train\n",
    "    def fit(self,X,Y):\n",
    "        X=X.values.reshape(-1,1)\n",
    "        Y=Y.values.reshape(-1,1)\n",
    "        self.w=np.matmul(inv(np.matmul(X.T,X)),np.matmul(X.T,Y))\n",
    "\n",
    "    def predict(self,x):\n",
    "        height_pred=x*self.w\n",
    "        return height_pred\n",
    "\n",
    "    def evaluate(self,X,Y,loss='MAE'):\n",
    "        X=X.values.reshape(-1,1)\n",
    "        Y=Y.values.reshape(-1,1)\n",
    "        Y_pred=[]\n",
    "        for i in range(X.shape[0]):\n",
    "            y_pred=self.predict(X[i])\n",
    "            Y_pred.append(y_pred)\n",
    "        Y_pred=np.array(Y_pred)  \n",
    "\n",
    "        Error=Y-Y_pred\n",
    "        MAE=np.mean(np.abs(Error))\n",
    "        MSE=np.mean(Error**2) \n",
    "\n",
    "        if loss=='MAE':\n",
    "            print('MAE :')\n",
    "            return MAE\n",
    "            \n",
    "        elif loss=='MSE':\n",
    "            print('MSE :')\n",
    "            return MSE  \n",
    "\n",
    "        elif loss=='Huber':\n",
    "            delta=1.0\n",
    "            print('Huber loss :')\n",
    "            \n",
    "            return np.mean(np.where(MAE<=delta,np.mean(MSE/2),np.mean((delta*MAE-(delta**2/2)))))\n",
    "\n",
    "        elif loss=='Hinge':\n",
    "            print('Hinge loss :')  \n",
    "            new_predicted=np.array([-1 if i==0 else i for i in Y_pred]) \n",
    "            new_actual = np.array([-1 if i==0 else i for i in Y]) \n",
    "            return np.mean([max(0, 1-x*y) for x, y in zip(new_actual, new_predicted)])\n",
    "\n",
    "\n",
    "lls=LinearLeastSquare()\n",
    "lls.fit(X_train,Y_train)"
   ]
  },
  {
   "cell_type": "code",
   "execution_count": 118,
   "id": "4e6ea140-131b-4c46-8b54-9b5482436c74",
   "metadata": {},
   "outputs": [],
   "source": [
    "lls = LinearLeastSquare()\n",
    "w=lls.fit(X_train, Y_train)"
   ]
  },
  {
   "cell_type": "code",
   "execution_count": 119,
   "id": "80fccf68-43eb-40e0-ba47-c174adb98ce7",
   "metadata": {},
   "outputs": [
    {
     "name": "stdout",
     "output_type": "stream",
     "text": [
      "MAE :\n"
     ]
    },
    {
     "data": {
      "text/plain": [
       "3.232851069298381"
      ]
     },
     "execution_count": 119,
     "metadata": {},
     "output_type": "execute_result"
    }
   ],
   "source": [
    "lls.evaluate(X_test,Y_test, loss='MAE')"
   ]
  },
  {
   "cell_type": "code",
   "execution_count": 120,
   "id": "5f7edb28-566a-4433-8b23-a97396e086eb",
   "metadata": {},
   "outputs": [
    {
     "name": "stdout",
     "output_type": "stream",
     "text": [
      "MSE :\n"
     ]
    },
    {
     "data": {
      "text/plain": [
       "17.399463483936593"
      ]
     },
     "execution_count": 120,
     "metadata": {},
     "output_type": "execute_result"
    }
   ],
   "source": [
    "lls.evaluate(X_test, Y_test, loss='MSE')"
   ]
  },
  {
   "cell_type": "code",
   "execution_count": 121,
   "id": "90df28e1-3ec7-4a8f-bfba-a5e20b34aceb",
   "metadata": {},
   "outputs": [
    {
     "name": "stdout",
     "output_type": "stream",
     "text": [
      "Huber loss :\n"
     ]
    },
    {
     "data": {
      "text/plain": [
       "2.732851069298381"
      ]
     },
     "execution_count": 121,
     "metadata": {},
     "output_type": "execute_result"
    }
   ],
   "source": [
    "lls.evaluate(X_test, Y_test, loss='Huber')"
   ]
  },
  {
   "cell_type": "code",
   "execution_count": 122,
   "id": "c330f4c8-6510-4076-a381-1cfd636ea395",
   "metadata": {},
   "outputs": [
    {
     "name": "stdout",
     "output_type": "stream",
     "text": [
      "Hinge loss :\n"
     ]
    },
    {
     "data": {
      "text/plain": [
       "array([[0.00037786]])"
      ]
     },
     "execution_count": 122,
     "metadata": {},
     "output_type": "execute_result"
    }
   ],
   "source": [
    "lls.evaluate(X_test,Y_test,loss='Hinge')"
   ]
  },
  {
   "cell_type": "code",
   "execution_count": null,
   "id": "57c25b6d-99ba-446a-b662-2b8d25ee596b",
   "metadata": {},
   "outputs": [],
   "source": []
  }
 ],
 "metadata": {
  "kernelspec": {
   "display_name": "Python 3 (ipykernel)",
   "language": "python",
   "name": "python3"
  },
  "language_info": {
   "codemirror_mode": {
    "name": "ipython",
    "version": 3
   },
   "file_extension": ".py",
   "mimetype": "text/x-python",
   "name": "python",
   "nbconvert_exporter": "python",
   "pygments_lexer": "ipython3",
   "version": "3.7.9"
  }
 },
 "nbformat": 4,
 "nbformat_minor": 5
}
