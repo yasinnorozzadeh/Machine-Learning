{
 "cells": [
  {
   "cell_type": "code",
   "execution_count": 17,
   "id": "d39d4529-9075-42d4-a1a1-b0d523be10dd",
   "metadata": {},
   "outputs": [],
   "source": [
    "import cv2"
   ]
  },
  {
   "cell_type": "code",
   "execution_count": 18,
   "id": "1ef6eefb-341f-479b-9b3d-db0081badfee",
   "metadata": {},
   "outputs": [],
   "source": [
    "image = cv2.imread('q3.jpg')"
   ]
  },
  {
   "cell_type": "code",
   "execution_count": 19,
   "id": "4a36638f-002e-492e-b1d9-9832f2dd50b0",
   "metadata": {},
   "outputs": [],
   "source": [
    "qrCodeDetector = cv2.QRCodeDetector()\n",
    "Text, points, _ = qrCodeDetector.detectAndDecode(image)"
   ]
  },
  {
   "cell_type": "code",
   "execution_count": 20,
   "id": "00f2cef0-4f95-438c-b32c-481fcb22ed7a",
   "metadata": {},
   "outputs": [
    {
     "name": "stdout",
     "output_type": "stream",
     "text": [
      "http://doitdummy.com\n"
     ]
    }
   ],
   "source": [
    "if points is not None:\n",
    "    print(Text)    \n",
    "else:\n",
    "    print(\"QR code not detected\")"
   ]
  },
  {
   "cell_type": "code",
   "execution_count": null,
   "id": "767831c3-6822-467f-8d28-a43252b04542",
   "metadata": {},
   "outputs": [],
   "source": []
  }
 ],
 "metadata": {
  "kernelspec": {
   "display_name": "Python 3 (ipykernel)",
   "language": "python",
   "name": "python3"
  },
  "language_info": {
   "codemirror_mode": {
    "name": "ipython",
    "version": 3
   },
   "file_extension": ".py",
   "mimetype": "text/x-python",
   "name": "python",
   "nbconvert_exporter": "python",
   "pygments_lexer": "ipython3",
   "version": "3.7.9"
  }
 },
 "nbformat": 4,
 "nbformat_minor": 5
}
