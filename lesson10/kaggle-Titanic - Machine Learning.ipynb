{
 "cells": [
  {
   "cell_type": "code",
   "execution_count": 101,
   "id": "1daea2db-afec-4ef8-87d4-a7ba8348e991",
   "metadata": {},
   "outputs": [],
   "source": [
    "import tensorflow as tf\n",
    "import numpy as np\n",
    "import pandas as pd\n",
    "from tensorflow.keras.layers import Dense\n",
    "import matplotlib.pyplot as plt\n",
    "from sklearn.neighbors import KNeighborsRegressor\n",
    "from sklearn.neighbors import KNeighborsClassifier\n",
    "from sklearn.metrics import accuracy_score\n",
    "from sklearn.neural_network import MLPClassifier\n",
    "from sklearn.linear_model import Perceptron\n",
    "from sklearn.preprocessing import LabelEncoder"
   ]
  },
  {
   "cell_type": "code",
   "execution_count": 102,
   "id": "1a46a779-6841-4aad-913f-8a396a49de4c",
   "metadata": {},
   "outputs": [
    {
     "data": {
      "text/html": [
       "<div>\n",
       "<style scoped>\n",
       "    .dataframe tbody tr th:only-of-type {\n",
       "        vertical-align: middle;\n",
       "    }\n",
       "\n",
       "    .dataframe tbody tr th {\n",
       "        vertical-align: top;\n",
       "    }\n",
       "\n",
       "    .dataframe thead th {\n",
       "        text-align: right;\n",
       "    }\n",
       "</style>\n",
       "<table border=\"1\" class=\"dataframe\">\n",
       "  <thead>\n",
       "    <tr style=\"text-align: right;\">\n",
       "      <th></th>\n",
       "      <th>PassengerId</th>\n",
       "      <th>Survived</th>\n",
       "      <th>Pclass</th>\n",
       "      <th>Name</th>\n",
       "      <th>Sex</th>\n",
       "      <th>Age</th>\n",
       "      <th>SibSp</th>\n",
       "      <th>Parch</th>\n",
       "      <th>Ticket</th>\n",
       "      <th>Fare</th>\n",
       "      <th>Cabin</th>\n",
       "      <th>Embarked</th>\n",
       "    </tr>\n",
       "  </thead>\n",
       "  <tbody>\n",
       "    <tr>\n",
       "      <th>0</th>\n",
       "      <td>1</td>\n",
       "      <td>0</td>\n",
       "      <td>3</td>\n",
       "      <td>Braund, Mr. Owen Harris</td>\n",
       "      <td>1</td>\n",
       "      <td>22.0</td>\n",
       "      <td>1</td>\n",
       "      <td>0</td>\n",
       "      <td>A/5 21171</td>\n",
       "      <td>7.2500</td>\n",
       "      <td>10</td>\n",
       "      <td>0.0</td>\n",
       "    </tr>\n",
       "    <tr>\n",
       "      <th>1</th>\n",
       "      <td>2</td>\n",
       "      <td>1</td>\n",
       "      <td>1</td>\n",
       "      <td>Cumings, Mrs. John Bradley (Florence Briggs Th...</td>\n",
       "      <td>0</td>\n",
       "      <td>38.0</td>\n",
       "      <td>1</td>\n",
       "      <td>0</td>\n",
       "      <td>PC 17599</td>\n",
       "      <td>71.2833</td>\n",
       "      <td>C85</td>\n",
       "      <td>1.0</td>\n",
       "    </tr>\n",
       "    <tr>\n",
       "      <th>2</th>\n",
       "      <td>3</td>\n",
       "      <td>1</td>\n",
       "      <td>3</td>\n",
       "      <td>Heikkinen, Miss. Laina</td>\n",
       "      <td>0</td>\n",
       "      <td>26.0</td>\n",
       "      <td>0</td>\n",
       "      <td>0</td>\n",
       "      <td>STON/O2. 3101282</td>\n",
       "      <td>7.9250</td>\n",
       "      <td>10</td>\n",
       "      <td>0.0</td>\n",
       "    </tr>\n",
       "    <tr>\n",
       "      <th>3</th>\n",
       "      <td>4</td>\n",
       "      <td>1</td>\n",
       "      <td>1</td>\n",
       "      <td>Futrelle, Mrs. Jacques Heath (Lily May Peel)</td>\n",
       "      <td>0</td>\n",
       "      <td>35.0</td>\n",
       "      <td>1</td>\n",
       "      <td>0</td>\n",
       "      <td>113803</td>\n",
       "      <td>53.1000</td>\n",
       "      <td>C123</td>\n",
       "      <td>0.0</td>\n",
       "    </tr>\n",
       "    <tr>\n",
       "      <th>4</th>\n",
       "      <td>5</td>\n",
       "      <td>0</td>\n",
       "      <td>3</td>\n",
       "      <td>Allen, Mr. William Henry</td>\n",
       "      <td>1</td>\n",
       "      <td>35.0</td>\n",
       "      <td>0</td>\n",
       "      <td>0</td>\n",
       "      <td>373450</td>\n",
       "      <td>8.0500</td>\n",
       "      <td>10</td>\n",
       "      <td>0.0</td>\n",
       "    </tr>\n",
       "  </tbody>\n",
       "</table>\n",
       "</div>"
      ],
      "text/plain": [
       "   PassengerId  Survived  Pclass  \\\n",
       "0            1         0       3   \n",
       "1            2         1       1   \n",
       "2            3         1       3   \n",
       "3            4         1       1   \n",
       "4            5         0       3   \n",
       "\n",
       "                                                Name  Sex   Age  SibSp  Parch  \\\n",
       "0                            Braund, Mr. Owen Harris    1  22.0      1      0   \n",
       "1  Cumings, Mrs. John Bradley (Florence Briggs Th...    0  38.0      1      0   \n",
       "2                             Heikkinen, Miss. Laina    0  26.0      0      0   \n",
       "3       Futrelle, Mrs. Jacques Heath (Lily May Peel)    0  35.0      1      0   \n",
       "4                           Allen, Mr. William Henry    1  35.0      0      0   \n",
       "\n",
       "             Ticket     Fare Cabin  Embarked  \n",
       "0         A/5 21171   7.2500    10       0.0  \n",
       "1          PC 17599  71.2833   C85       1.0  \n",
       "2  STON/O2. 3101282   7.9250    10       0.0  \n",
       "3            113803  53.1000  C123       0.0  \n",
       "4            373450   8.0500    10       0.0  "
      ]
     },
     "execution_count": 102,
     "metadata": {},
     "output_type": "execute_result"
    }
   ],
   "source": [
    "data_test_target = pd.read_csv('gender_submission.csv')\n",
    "data_train = pd.read_csv('train.csv')\n",
    "data_train = data_train.replace([\"female\",\"male\"],[0,1])\n",
    "data_train = data_train.replace([\"S\",\"C\",\"Q\"],[0,1,2])\n",
    "data_train = data_train.fillna(10)\n",
    "X_train = np.array(data_train[['Pclass', 'Sex', 'Age', 'SibSp', 'Parch', 'Fare', 'Embarked']])\n",
    "Y_train = np.array(data_train[['Survived']])\n",
    "\n",
    "data_test = pd.read_csv('test.csv')\n",
    "data_test = data_test.replace([\"female\", \"male\"], [0, 1])\n",
    "data_test = data_test.replace([\"S\", \"C\", \"Q\"], [0, 1, 2])\n",
    "Y_test = data_test_target[['Survived']]\n",
    "X_test = data_test[['Pclass', 'Sex', 'Age', 'SibSp', 'Parch', 'Fare', 'Embarked']]\n",
    "X_test = np.nan_to_num(X_test)\n",
    "Y_test = np.nan_to_num(Y_test)\n",
    "\n",
    "data_train.head()"
   ]
  },
  {
   "cell_type": "code",
   "execution_count": 103,
   "id": "43e6f653-188a-48ca-808a-5aed411d9ffc",
   "metadata": {},
   "outputs": [],
   "source": [
    "Y_train = np.array(Y_train)\n",
    "X_train = np.array(X_train)\n",
    "\n",
    "Y_test = np.array(Y_test)\n",
    "X_test = np.array(X_test)"
   ]
  },
  {
   "cell_type": "code",
   "execution_count": 104,
   "id": "6196166f-d21e-4a45-b0e8-c42007660c33",
   "metadata": {},
   "outputs": [],
   "source": [
    "#model\n",
    "model = tf.keras.models.Sequential([\n",
    "     tf.keras.layers.Dense(7,activation=\"relu\"),\n",
    "     tf.keras.layers.Dense(450,activation=\"relu\"),\n",
    "     tf.keras.layers.Dense(980,activation=\"relu\"),\n",
    "     tf.keras.layers.Dense(540,activation=\"relu\"),\n",
    "    tf.keras.layers.Dense(58,activation=\"softmax\"),\n",
    "    tf.keras.layers.Dense(33,activation=\"softmax\"),\n",
    "     tf.keras.layers.Dense(2,activation=\"softmax\"),\n",
    "])"
   ]
  },
  {
   "cell_type": "code",
   "execution_count": 105,
   "id": "3dc54b94-726a-4cff-a47e-1189e9266517",
   "metadata": {},
   "outputs": [],
   "source": [
    "model.compile(optimizer = tf.keras.optimizers.Adam(learning_rate= 0.001),\n",
    "              loss=tf.keras.losses.sparse_categorical_crossentropy,\n",
    "              metrics = ['accuracy'])"
   ]
  },
  {
   "cell_type": "code",
   "execution_count": 106,
   "id": "77abee49-1657-470a-9817-1112229bc378",
   "metadata": {},
   "outputs": [
    {
     "name": "stdout",
     "output_type": "stream",
     "text": [
      "Epoch 1/10\n",
      "28/28 [==============================] - 1s 9ms/step - loss: 0.6974 - accuracy: 0.4231\n",
      "Epoch 2/10\n",
      "28/28 [==============================] - 0s 9ms/step - loss: 0.6844 - accuracy: 0.6207\n",
      "Epoch 3/10\n",
      "28/28 [==============================] - 0s 9ms/step - loss: 0.6775 - accuracy: 0.6162\n",
      "Epoch 4/10\n",
      "28/28 [==============================] - 0s 9ms/step - loss: 0.6732 - accuracy: 0.6162\n",
      "Epoch 5/10\n",
      "28/28 [==============================] - 0s 9ms/step - loss: 0.6701 - accuracy: 0.6162\n",
      "Epoch 6/10\n",
      "28/28 [==============================] - 0s 8ms/step - loss: 0.6683 - accuracy: 0.6162\n",
      "Epoch 7/10\n",
      "28/28 [==============================] - 0s 8ms/step - loss: 0.6673 - accuracy: 0.6162\n",
      "Epoch 8/10\n",
      "28/28 [==============================] - 0s 9ms/step - loss: 0.6668 - accuracy: 0.6162\n",
      "Epoch 9/10\n",
      "28/28 [==============================] - 0s 9ms/step - loss: 0.6664 - accuracy: 0.6162\n",
      "Epoch 10/10\n",
      "28/28 [==============================] - 0s 9ms/step - loss: 0.6662 - accuracy: 0.6162\n"
     ]
    }
   ],
   "source": [
    "output = model.fit(X_train,Y_train ,epochs=10)\n",
    "model.save('titanic.h5')"
   ]
  },
  {
   "cell_type": "code",
   "execution_count": 107,
   "id": "a12e5b69-c5e3-4c24-b721-e436b4db461b",
   "metadata": {},
   "outputs": [
    {
     "data": {
      "text/plain": [
       "[<matplotlib.lines.Line2D at 0x17fdcadb748>]"
      ]
     },
     "execution_count": 107,
     "metadata": {},
     "output_type": "execute_result"
    },
    {
     "data": {
      "image/png": "[encoded data removed]",
      "text/plain": [
       "<Figure size 432x288 with 1 Axes>"
      ]
     },
     "metadata": {
      "needs_background": "light"
     },
     "output_type": "display_data"
    }
   ],
   "source": [
    "plt.plot(output.history['loss'], c='orange')\n",
    "plt.plot(output.history['accuracy'], c='g')"
   ]
  },
  {
   "cell_type": "code",
   "execution_count": 108,
   "id": "dbd4d43b-8c41-4a1b-8ef0-e2661792d1a9",
   "metadata": {},
   "outputs": [],
   "source": [
    "model=tf.keras.models.load_model('titanic.h5')"
   ]
  },
  {
   "cell_type": "markdown",
   "id": "d0f514ec-64ee-4e8d-8a17-f22442e55957",
   "metadata": {},
   "source": [
    "# KNN"
   ]
  },
  {
   "cell_type": "code",
   "execution_count": 109,
   "id": "0fc56b27-15d8-4317-88f1-dad18987045a",
   "metadata": {},
   "outputs": [
    {
     "data": {
      "text/plain": [
       "0.6555023923444976"
      ]
     },
     "execution_count": 109,
     "metadata": {},
     "output_type": "execute_result"
    }
   ],
   "source": [
    "my_knn = KNeighborsClassifier(n_neighbors=127)\n",
    "Y_train_flatten = Y_train.flatten()\n",
    "my_knn.fit(X_train, Y_train_flatten)\n",
    "Y_pred = my_knn.predict(X_test)\n",
    "Y_test_flatten = Y_test.flatten()\n",
    "accuracy = accuracy_score(Y_test_flatten, Y_pred)\n",
    "accuracy"
   ]
  },
  {
   "cell_type": "markdown",
   "id": "2df0023a-944b-4c74-a6c5-598fe53ab45f",
   "metadata": {},
   "source": [
    "# MLP"
   ]
  },
  {
   "cell_type": "code",
   "execution_count": 110,
   "id": "6296b5cc-1a23-4fa9-8cf2-2570c4816992",
   "metadata": {},
   "outputs": [
    {
     "name": "stderr",
     "output_type": "stream",
     "text": [
      "c:\\users\\sisto.desktop-75v44of\\appdata\\local\\programs\\python\\python37\\lib\\site-packages\\sklearn\\neural_network\\_multilayer_perceptron.py:1109: DataConversionWarning: A column-vector y was passed when a 1d array was expected. Please change the shape of y to (n_samples, ), for example using ravel().\n",
      "  y = column_or_1d(y, warn=True)\n"
     ]
    },
    {
     "data": {
      "text/plain": [
       "0.7703349282296651"
      ]
     },
     "execution_count": 110,
     "metadata": {},
     "output_type": "execute_result"
    }
   ],
   "source": [
    "mlp = MLPClassifier(random_state=5, max_iter=300).fit(X_train, Y_train)\n",
    "mlp.predict_proba(X_test)\n",
    "mlp.predict(X_test)\n",
    "accuracy = mlp.score(X_test, Y_test)\n",
    "accuracy"
   ]
  },
  {
   "cell_type": "markdown",
   "id": "c8509976-66e1-4045-8849-6320eba0db90",
   "metadata": {},
   "source": [
    "# Perceptron"
   ]
  },
  {
   "cell_type": "code",
   "execution_count": 111,
   "id": "c953e639-c2ed-4249-a4c7-7acabfb2f41c",
   "metadata": {},
   "outputs": [
    {
     "name": "stderr",
     "output_type": "stream",
     "text": [
      "c:\\users\\sisto.desktop-75v44of\\appdata\\local\\programs\\python\\python37\\lib\\site-packages\\sklearn\\utils\\validation.py:985: DataConversionWarning: A column-vector y was passed when a 1d array was expected. Please change the shape of y to (n_samples, ), for example using ravel().\n",
      "  y = column_or_1d(y, warn=True)\n"
     ]
    },
    {
     "data": {
      "text/plain": [
       "0.8133971291866029"
      ]
     },
     "execution_count": 111,
     "metadata": {},
     "output_type": "execute_result"
    }
   ],
   "source": [
    "p = Perceptron(random_state=95)\n",
    "p.fit(X_train, Y_train)\n",
    "\n",
    "Y_pred = p.predict(X_test)\n",
    "score = accuracy_score(Y_test, Y_pred)\n",
    "score"
   ]
  },
  {
   "cell_type": "code",
   "execution_count": null,
   "id": "6a4808bb-acd6-4ba3-82f2-f627a7e41f72",
   "metadata": {},
   "outputs": [],
   "source": []
  }
 ],
 "metadata": {
  "kernelspec": {
   "display_name": "Python 3 (ipykernel)",
   "language": "python",
   "name": "python3"
  },
  "language_info": {
   "codemirror_mode": {
    "name": "ipython",
    "version": 3
   },
   "file_extension": ".py",
   "mimetype": "text/x-python",
   "name": "python",
   "nbconvert_exporter": "python",
   "pygments_lexer": "ipython3",
   "version": "3.7.9"
  }
 },
 "nbformat": 4,
 "nbformat_minor": 5
}
