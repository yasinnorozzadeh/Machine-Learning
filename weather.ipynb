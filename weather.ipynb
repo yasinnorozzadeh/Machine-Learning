{
 "cells": [
  {
   "cell_type": "code",
   "execution_count": 148,
   "id": "9b0f4d5f-0edc-41c1-9663-a3b63fee9d66",
   "metadata": {},
   "outputs": [],
   "source": [
    "import wandb\n",
    "import pandas as pd\n",
    "import numpy as np\n",
    "import tensorflow as tf\n",
    "import matplotlib.pyplot as plt\n",
    "from datetime import datetime\n",
    "from wandb.keras import WandbCallback\n",
    "from tensorflow.keras.layers import Dense\n",
    "from sklearn.model_selection import train_test_split"
   ]
  },
  {
   "cell_type": "code",
   "execution_count": 149,
   "id": "5023208f-ca58-4d97-b2bf-aeac8fc70341",
   "metadata": {},
   "outputs": [
    {
     "data": {
      "text/html": [
       "Finishing last run (ID:11rl3zjk) before initializing another..."
      ],
      "text/plain": [
       "<IPython.core.display.HTML object>"
      ]
     },
     "metadata": {},
     "output_type": "display_data"
    },
    {
     "name": "stdout",
     "output_type": "stream",
     "text": [
      "\n"
     ]
    },
    {
     "data": {
      "text/html": [
       "Waiting for W&B process to finish... <strong style=\"color:green\">(success).</strong>"
      ],
      "text/plain": [
       "<IPython.core.display.HTML object>"
      ]
     },
     "metadata": {},
     "output_type": "display_data"
    },
    {
     "data": {
      "application/vnd.jupyter.widget-view+json": {
       "model_id": "",
       "version_major": 2,
       "version_minor": 0
      },
      "text/plain": [
       "VBox(children=(Label(value='0.000 MB of 0.001 MB uploaded (0.000 MB deduped)\\r'), FloatProgress(value=0.0, max…"
      ]
     },
     "metadata": {},
     "output_type": "display_data"
    },
    {
     "data": {
      "text/html": [
       "<style>\n",
       "    table.wandb td:nth-child(1) { padding: 0 10px; text-align: right }\n",
       "    .wandb-row { display: flex; flex-direction: row; flex-wrap: wrap; width: 100% }\n",
       "    .wandb-col { display: flex; flex-direction: column; flex-basis: 100%; flex: 1; padding: 10px; }\n",
       "    </style>\n",
       "<div class=\"wandb-row\"><div class=\"wandb-col\"><h3>Run history:</h3><br/><table class=\"wandb\"><tr><td>epoch</td><td>▁▁▁▁▂▂▂▂▂▃▃▃▃▃▃▄▄▄▄▄▅▅▅▅▅▅▆▆▆▆▆▆▇▇▇▇▇███</td></tr><tr><td>loss</td><td>███████████████████████████████▆▅▄▃▃▂▂▁▁</td></tr></table><br/></div><div class=\"wandb-col\"><h3>Run summary:</h3><br/><table class=\"wandb\"><tr><td>epoch</td><td>299</td></tr><tr><td>loss</td><td>27.81687</td></tr></table><br/></div></div>"
      ],
      "text/plain": [
       "<IPython.core.display.HTML object>"
      ]
     },
     "metadata": {},
     "output_type": "display_data"
    },
    {
     "data": {
      "text/html": [
       "Synced <strong style=\"color:#cdcd00\">laced-thunder-5</strong>: <a href=\"https://wandb.ai/yasinnorozzadeh/weather%20history/runs/11rl3zjk\" target=\"_blank\">https://wandb.ai/yasinnorozzadeh/weather%20history/runs/11rl3zjk</a><br/>Synced 5 W&B file(s), 1 media file(s), 0 artifact file(s) and 0 other file(s)"
      ],
      "text/plain": [
       "<IPython.core.display.HTML object>"
      ]
     },
     "metadata": {},
     "output_type": "display_data"
    },
    {
     "data": {
      "text/html": [
       "Find logs at: <code>.\\wandb\\run-20220304_211122-11rl3zjk\\logs</code>"
      ],
      "text/plain": [
       "<IPython.core.display.HTML object>"
      ]
     },
     "metadata": {},
     "output_type": "display_data"
    },
    {
     "data": {
      "text/html": [
       "Successfully finished last run (ID:11rl3zjk). Initializing new run:<br/>"
      ],
      "text/plain": [
       "<IPython.core.display.HTML object>"
      ]
     },
     "metadata": {},
     "output_type": "display_data"
    },
    {
     "data": {
      "text/html": [
       "Tracking run with wandb version 0.12.11"
      ],
      "text/plain": [
       "<IPython.core.display.HTML object>"
      ]
     },
     "metadata": {},
     "output_type": "display_data"
    },
    {
     "data": {
      "text/html": [
       "Run data is saved locally in <code>G:\\programming\\python 2\\41\\tamrin\\wandb\\run-20220304_211537-12uwcbiq</code>"
      ],
      "text/plain": [
       "<IPython.core.display.HTML object>"
      ]
     },
     "metadata": {},
     "output_type": "display_data"
    },
    {
     "data": {
      "text/html": [
       "Syncing run <strong><a href=\"https://wandb.ai/yasinnorozzadeh/weather%20history/runs/12uwcbiq\" target=\"_blank\">sparkling-hill-6</a></strong> to <a href=\"https://wandb.ai/yasinnorozzadeh/weather%20history\" target=\"_blank\">Weights & Biases</a> (<a href=\"https://wandb.me/run\" target=\"_blank\">docs</a>)<br/>"
      ],
      "text/plain": [
       "<IPython.core.display.HTML object>"
      ]
     },
     "metadata": {},
     "output_type": "display_data"
    },
    {
     "data": {
      "text/html": [
       "<button onClick=\"this.nextSibling.style.display='block';this.style.display='none';\">Display W&B run</button><iframe src=\"https://wandb.ai/yasinnorozzadeh/weather%20history/runs/12uwcbiq?jupyter=true\" style=\"border:none;width:100%;height:420px;display:none;\"></iframe>"
      ],
      "text/plain": [
       "<wandb.sdk.wandb_run.Run at 0x22003b5d288>"
      ]
     },
     "execution_count": 149,
     "metadata": {},
     "output_type": "execute_result"
    }
   ],
   "source": [
    "wandb.init(project=\"weather history\")"
   ]
  },
  {
   "cell_type": "code",
   "execution_count": 150,
   "id": "49b92906-129b-4732-a209-5e503fbc1221",
   "metadata": {},
   "outputs": [
    {
     "data": {
      "text/html": [
       "<div>\n",
       "<style scoped>\n",
       "    .dataframe tbody tr th:only-of-type {\n",
       "        vertical-align: middle;\n",
       "    }\n",
       "\n",
       "    .dataframe tbody tr th {\n",
       "        vertical-align: top;\n",
       "    }\n",
       "\n",
       "    .dataframe thead th {\n",
       "        text-align: right;\n",
       "    }\n",
       "</style>\n",
       "<table border=\"1\" class=\"dataframe\">\n",
       "  <thead>\n",
       "    <tr style=\"text-align: right;\">\n",
       "      <th></th>\n",
       "      <th>Day_Year</th>\n",
       "      <th>Year</th>\n",
       "      <th>Temperature (C)</th>\n",
       "    </tr>\n",
       "  </thead>\n",
       "  <tbody>\n",
       "    <tr>\n",
       "      <th>0</th>\n",
       "      <td>1</td>\n",
       "      <td>2006</td>\n",
       "      <td>4.075000</td>\n",
       "    </tr>\n",
       "    <tr>\n",
       "      <th>1</th>\n",
       "      <td>1</td>\n",
       "      <td>2007</td>\n",
       "      <td>3.806713</td>\n",
       "    </tr>\n",
       "    <tr>\n",
       "      <th>2</th>\n",
       "      <td>1</td>\n",
       "      <td>2008</td>\n",
       "      <td>-5.663194</td>\n",
       "    </tr>\n",
       "    <tr>\n",
       "      <th>3</th>\n",
       "      <td>1</td>\n",
       "      <td>2009</td>\n",
       "      <td>-4.850926</td>\n",
       "    </tr>\n",
       "    <tr>\n",
       "      <th>4</th>\n",
       "      <td>1</td>\n",
       "      <td>2010</td>\n",
       "      <td>7.807407</td>\n",
       "    </tr>\n",
       "  </tbody>\n",
       "</table>\n",
       "</div>"
      ],
      "text/plain": [
       "   Day_Year  Year  Temperature (C)\n",
       "0         1  2006         4.075000\n",
       "1         1  2007         3.806713\n",
       "2         1  2008        -5.663194\n",
       "3         1  2009        -4.850926\n",
       "4         1  2010         7.807407"
      ]
     },
     "execution_count": 150,
     "metadata": {},
     "output_type": "execute_result"
    }
   ],
   "source": [
    "data = pd.read_csv(\"weatherHistory.csv\")\n",
    "data['Formatted Date'] = pd.to_datetime(data['Formatted Date'], utc=True)\n",
    "data['Year'] = data['Formatted Date'].dt.year\n",
    "data['Day_Year'] = data['Formatted Date'].dt.dayofyear\n",
    "data = data.groupby(['Day_Year', 'Year'])['Temperature (C)'].mean().reset_index()\n",
    "data.head()"
   ]
  },
  {
   "cell_type": "code",
   "execution_count": 151,
   "id": "da9b5f3e-325e-48c0-b2c0-b50de4669400",
   "metadata": {},
   "outputs": [],
   "source": [
    "X = data['Day_Year'].values\n",
    "Y= data['Temperature (C)'].values\n",
    "X = X.reshape(-1,1)\n",
    "Y = Y.reshape(-1,1)"
   ]
  },
  {
   "cell_type": "code",
   "execution_count": 152,
   "id": "ef9afb19-8c46-4e29-a9ba-6e6308c015a0",
   "metadata": {},
   "outputs": [],
   "source": [
    "X_train, X_test, Y_train, Y_test = train_test_split(X, Y, shuffle=True)"
   ]
  },
  {
   "cell_type": "markdown",
   "id": "d2f9e077-dcf1-4dce-a03a-858c2bf8ef8f",
   "metadata": {},
   "source": [
    "# model"
   ]
  },
  {
   "cell_type": "code",
   "execution_count": 153,
   "id": "1000d26a-657d-4680-8807-77db2ed93eea",
   "metadata": {},
   "outputs": [],
   "source": [
    "model = tf.keras.models.Sequential([\n",
    "    Dense(100, input_dim=1, activation='relu'),\n",
    "    Dense(1000, activation='sigmoid'),\n",
    "    Dense(100, activation='sigmoid'),\n",
    "    Dense(1, activation=\"linear\")\n",
    "])"
   ]
  },
  {
   "cell_type": "code",
   "execution_count": 154,
   "id": "4e9fd82e-5ad3-4b84-9ec6-4489f59918cb",
   "metadata": {},
   "outputs": [],
   "source": [
    "model.compile(optimizer=tf.keras.optimizers.Adam(config.learning_rate),\n",
    "              loss = tf.keras.losses.MeanSquaredError()\n",
    "              )"
   ]
  },
  {
   "cell_type": "code",
   "execution_count": null,
   "id": "8e846a2a-9ee2-4f63-bc66-36c886adeb7f",
   "metadata": {},
   "outputs": [
    {
     "name": "stdout",
     "output_type": "stream",
     "text": [
      "Epoch 1/300\n",
      "95/95 [==============================] - 1s 2ms/step - loss: 91.6873 - _timestamp: 1646415967.0000 - _runtime: 21.0000\n",
      "Epoch 2/300\n",
      "95/95 [==============================] - 0s 2ms/step - loss: 58.7033 - _timestamp: 1646415968.0000 - _runtime: 22.0000\n",
      "Epoch 3/300\n",
      "95/95 [==============================] - 0s 2ms/step - loss: 51.7589 - _timestamp: 1646415968.0000 - _runtime: 22.0000\n",
      "Epoch 4/300\n",
      "95/95 [==============================] - 0s 2ms/step - loss: 50.8848 - _timestamp: 1646415968.0000 - _runtime: 22.0000\n",
      "Epoch 5/300\n",
      "95/95 [==============================] - 0s 2ms/step - loss: 50.6575 - _timestamp: 1646415968.0000 - _runtime: 22.0000\n",
      "Epoch 6/300\n",
      "95/95 [==============================] - 0s 2ms/step - loss: 50.8340 - _timestamp: 1646415968.0000 - _runtime: 22.0000\n",
      "Epoch 7/300\n",
      "95/95 [==============================] - 0s 2ms/step - loss: 50.5802 - _timestamp: 1646415968.0000 - _runtime: 22.0000\n",
      "Epoch 8/300\n",
      "95/95 [==============================] - 0s 2ms/step - loss: 50.4659 - _timestamp: 1646415969.0000 - _runtime: 23.0000\n",
      "Epoch 9/300\n",
      "95/95 [==============================] - 0s 2ms/step - loss: 50.6047 - _timestamp: 1646415969.0000 - _runtime: 23.0000\n",
      "Epoch 10/300\n",
      "95/95 [==============================] - 0s 2ms/step - loss: 50.5134 - _timestamp: 1646415969.0000 - _runtime: 23.0000\n",
      "Epoch 11/300\n",
      "95/95 [==============================] - 0s 2ms/step - loss: 50.7062 - _timestamp: 1646415969.0000 - _runtime: 23.0000\n",
      "Epoch 12/300\n",
      "95/95 [==============================] - 0s 2ms/step - loss: 50.4765 - _timestamp: 1646415969.0000 - _runtime: 23.0000\n",
      "Epoch 13/300\n",
      "95/95 [==============================] - 0s 2ms/step - loss: 50.3809 - _timestamp: 1646415969.0000 - _runtime: 23.0000\n",
      "Epoch 14/300\n",
      "95/95 [==============================] - 0s 2ms/step - loss: 50.4777 - _timestamp: 1646415970.0000 - _runtime: 24.0000\n",
      "Epoch 15/300\n",
      "95/95 [==============================] - 0s 2ms/step - loss: 50.4080 - _timestamp: 1646415970.0000 - _runtime: 24.0000\n",
      "Epoch 16/300\n",
      "95/95 [==============================] - 0s 2ms/step - loss: 50.4320 - _timestamp: 1646415970.0000 - _runtime: 24.0000\n",
      "Epoch 17/300\n",
      "95/95 [==============================] - 0s 2ms/step - loss: 50.4389 - _timestamp: 1646415970.0000 - _runtime: 24.0000\n",
      "Epoch 18/300\n",
      "95/95 [==============================] - 0s 2ms/step - loss: 50.4034 - _timestamp: 1646415970.0000 - _runtime: 24.0000\n",
      "Epoch 19/300\n",
      "95/95 [==============================] - 0s 2ms/step - loss: 50.5096 - _timestamp: 1646415970.0000 - _runtime: 24.0000\n",
      "Epoch 20/300\n",
      "30/95 [========>.....................] - ETA: 0s - loss: 52.7703"
     ]
    }
   ],
   "source": [
    "model.fit(X_train, Y_train, epochs=300, callbacks=[WandbCallback()])"
   ]
  },
  {
   "cell_type": "code",
   "execution_count": null,
   "id": "90b2014a-92b1-450f-8a92-df66833a08da",
   "metadata": {},
   "outputs": [],
   "source": [
    "plt.figure(figsize=(20, 10))\n",
    "Y_pred = model.predict(X_train)\n",
    "font1 = {'family':'serif','color':'blue','size':20}\n",
    "font2 = {'family':'serif','color':'darkred','size':20}\n",
    "plt.scatter(X, Y, marker='*', c='orange')\n",
    "plt.plot(X_train, Y_pred, \">\",  color='m', lw=4, label='Fitted line')\n",
    "plt.xlabel('Day_Year', fontdict = font1)\n",
    "plt.ylabel('Temperature', fontdict = font2)\n",
    "plt.grid(color = 'green', linestyle = '--', linewidth = 0.8)"
   ]
  },
  {
   "cell_type": "code",
   "execution_count": null,
   "id": "13f9cdb6-91a5-479c-86e6-6a6c4722bced",
   "metadata": {},
   "outputs": [],
   "source": [
    "model.evaluate(X_test, Y_test)"
   ]
  },
  {
   "cell_type": "code",
   "execution_count": null,
   "id": "2ea3bcbb-cbff-4ae3-82fe-b1f5ea39885a",
   "metadata": {},
   "outputs": [],
   "source": []
  }
 ],
 "metadata": {
  "kernelspec": {
   "display_name": "Python 3 (ipykernel)",
   "language": "python",
   "name": "python3"
  },
  "language_info": {
   "codemirror_mode": {
    "name": "ipython",
    "version": 3
   },
   "file_extension": ".py",
   "mimetype": "text/x-python",
   "name": "python",
   "nbconvert_exporter": "python",
   "pygments_lexer": "ipython3",
   "version": "3.7.9"
  }
 },
 "nbformat": 4,
 "nbformat_minor": 5
}
