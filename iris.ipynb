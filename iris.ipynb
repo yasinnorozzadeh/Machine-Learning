{
 "cells": [
  {
   "cell_type": "code",
   "execution_count": 22,
   "id": "fa8fce41-8a23-4e5e-ad8f-a2bc8725f09b",
   "metadata": {},
   "outputs": [],
   "source": [
    "import numpy as np\n",
    "import pandas as pd\n",
    "import matplotlib.pyplot as plt\n",
    "from sklearn.datasets import load_iris\n",
    "from KNN import KNearestNeighbors"
   ]
  },
  {
   "cell_type": "code",
   "execution_count": 23,
   "id": "1b2dc4ef-2e02-4b91-aeb5-3714f528aa48",
   "metadata": {},
   "outputs": [],
   "source": [
    "iris=load_iris()\n",
    "X = iris.data[:, :4]  \n",
    "Y= iris.target\n",
    "X=np.array(X)\n",
    "Y=np.array(Y)"
   ]
  },
  {
   "cell_type": "code",
   "execution_count": 24,
   "id": "8751c6bd-7ef7-40fe-a78e-fda10d556958",
   "metadata": {},
   "outputs": [],
   "source": [
    "X_train,X_test,Y_train,Y_test=train_test_split(X,Y,test_size=0.2)"
   ]
  },
  {
   "cell_type": "code",
   "execution_count": 25,
   "id": "d51ee3e3-945d-4108-8f5b-db3b1c04859f",
   "metadata": {},
   "outputs": [
    {
     "data": {
      "image/png": "[encoded data removed]",
      "text/plain": [
       "<Figure size 432x288 with 1 Axes>"
      ]
     },
     "metadata": {
      "needs_background": "light"
     },
     "output_type": "display_data"
    }
   ],
   "source": [
    "X_axis=[1,3,5,7,9,11,13,15]\n",
    "acc=[]\n",
    "\n",
    "for k in X_axis:\n",
    "  knn=KNearestNeighbors(k=k)\n",
    "  knn.fit(X_train,Y_train)\n",
    "  accuracy=knn.evaluate(X_test,Y_test)\n",
    "  acc.append(accuracy)\n",
    "  \n",
    "\n",
    "plt.bar(X_axis,acc,color='red')\n",
    "plt.show()"
   ]
  },
  {
   "cell_type": "code",
   "execution_count": null,
   "id": "8884fbd1-46fc-43ba-aa66-64f1d6c172df",
   "metadata": {},
   "outputs": [],
   "source": []
  }
 ],
 "metadata": {
  "kernelspec": {
   "display_name": "Python 3 (ipykernel)",
   "language": "python",
   "name": "python3"
  },
  "language_info": {
   "codemirror_mode": {
    "name": "ipython",
    "version": 3
   },
   "file_extension": ".py",
   "mimetype": "text/x-python",
   "name": "python",
   "nbconvert_exporter": "python",
   "pygments_lexer": "ipython3",
   "version": "3.7.9"
  }
 },
 "nbformat": 4,
 "nbformat_minor": 5
}
